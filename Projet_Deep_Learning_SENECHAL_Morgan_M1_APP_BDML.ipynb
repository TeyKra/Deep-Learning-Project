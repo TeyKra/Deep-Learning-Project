{
  "nbformat": 4,
  "nbformat_minor": 0,
  "metadata": {
    "colab": {
      "provenance": [],
      "gpuType": "T4"
    },
    "kernelspec": {
      "name": "python3",
      "display_name": "Python 3"
    },
    "language_info": {
      "name": "python"
    },
    "accelerator": "GPU"
  },
  "cells": [
    {
      "cell_type": "code",
      "source": [
        "!pip install tensorflow==2.12.0\n",
        "!pip install keras==2.12.0"
      ],
      "metadata": {
        "colab": {
          "base_uri": "https://localhost:8080/",
          "height": 1000
        },
        "id": "H3Gy5Xvdi6AQ",
        "outputId": "b72e0c91-1a88-475d-da63-8f5290e0f186"
      },
      "execution_count": 1,
      "outputs": [
        {
          "output_type": "stream",
          "name": "stdout",
          "text": [
            "Collecting tensorflow==2.12.0\n",
            "  Downloading tensorflow-2.12.0-cp310-cp310-manylinux_2_17_x86_64.manylinux2014_x86_64.whl (585.9 MB)\n",
            "\u001b[2K     \u001b[90m━━━━━━━━━━━━━━━━━━━━━━━━━━━━━━━━━━━━━━━━\u001b[0m \u001b[32m585.9/585.9 MB\u001b[0m \u001b[31m1.5 MB/s\u001b[0m eta \u001b[36m0:00:00\u001b[0m\n",
            "\u001b[?25hRequirement already satisfied: absl-py>=1.0.0 in /usr/local/lib/python3.10/dist-packages (from tensorflow==2.12.0) (1.4.0)\n",
            "Requirement already satisfied: astunparse>=1.6.0 in /usr/local/lib/python3.10/dist-packages (from tensorflow==2.12.0) (1.6.3)\n",
            "Requirement already satisfied: flatbuffers>=2.0 in /usr/local/lib/python3.10/dist-packages (from tensorflow==2.12.0) (24.3.25)\n",
            "Collecting gast<=0.4.0,>=0.2.1 (from tensorflow==2.12.0)\n",
            "  Downloading gast-0.4.0-py3-none-any.whl (9.8 kB)\n",
            "Requirement already satisfied: google-pasta>=0.1.1 in /usr/local/lib/python3.10/dist-packages (from tensorflow==2.12.0) (0.2.0)\n",
            "Requirement already satisfied: grpcio<2.0,>=1.24.3 in /usr/local/lib/python3.10/dist-packages (from tensorflow==2.12.0) (1.62.1)\n",
            "Requirement already satisfied: h5py>=2.9.0 in /usr/local/lib/python3.10/dist-packages (from tensorflow==2.12.0) (3.9.0)\n",
            "Requirement already satisfied: jax>=0.3.15 in /usr/local/lib/python3.10/dist-packages (from tensorflow==2.12.0) (0.4.23)\n",
            "Collecting keras<2.13,>=2.12.0 (from tensorflow==2.12.0)\n",
            "  Downloading keras-2.12.0-py2.py3-none-any.whl (1.7 MB)\n",
            "\u001b[2K     \u001b[90m━━━━━━━━━━━━━━━━━━━━━━━━━━━━━━━━━━━━━━━━\u001b[0m \u001b[32m1.7/1.7 MB\u001b[0m \u001b[31m3.0 MB/s\u001b[0m eta \u001b[36m0:00:00\u001b[0m\n",
            "\u001b[?25hRequirement already satisfied: libclang>=13.0.0 in /usr/local/lib/python3.10/dist-packages (from tensorflow==2.12.0) (18.1.1)\n",
            "Collecting numpy<1.24,>=1.22 (from tensorflow==2.12.0)\n",
            "  Downloading numpy-1.23.5-cp310-cp310-manylinux_2_17_x86_64.manylinux2014_x86_64.whl (17.1 MB)\n",
            "\u001b[2K     \u001b[90m━━━━━━━━━━━━━━━━━━━━━━━━━━━━━━━━━━━━━━━━\u001b[0m \u001b[32m17.1/17.1 MB\u001b[0m \u001b[31m3.1 MB/s\u001b[0m eta \u001b[36m0:00:00\u001b[0m\n",
            "\u001b[?25hRequirement already satisfied: opt-einsum>=2.3.2 in /usr/local/lib/python3.10/dist-packages (from tensorflow==2.12.0) (3.3.0)\n",
            "Requirement already satisfied: packaging in /usr/local/lib/python3.10/dist-packages (from tensorflow==2.12.0) (24.0)\n",
            "Requirement already satisfied: protobuf!=4.21.0,!=4.21.1,!=4.21.2,!=4.21.3,!=4.21.4,!=4.21.5,<5.0.0dev,>=3.20.3 in /usr/local/lib/python3.10/dist-packages (from tensorflow==2.12.0) (3.20.3)\n",
            "Requirement already satisfied: setuptools in /usr/local/lib/python3.10/dist-packages (from tensorflow==2.12.0) (67.7.2)\n",
            "Requirement already satisfied: six>=1.12.0 in /usr/local/lib/python3.10/dist-packages (from tensorflow==2.12.0) (1.16.0)\n",
            "Collecting tensorboard<2.13,>=2.12 (from tensorflow==2.12.0)\n",
            "  Downloading tensorboard-2.12.3-py3-none-any.whl (5.6 MB)\n",
            "\u001b[2K     \u001b[90m━━━━━━━━━━━━━━━━━━━━━━━━━━━━━━━━━━━━━━━━\u001b[0m \u001b[32m5.6/5.6 MB\u001b[0m \u001b[31m2.7 MB/s\u001b[0m eta \u001b[36m0:00:00\u001b[0m\n",
            "\u001b[?25hCollecting tensorflow-estimator<2.13,>=2.12.0 (from tensorflow==2.12.0)\n",
            "  Downloading tensorflow_estimator-2.12.0-py2.py3-none-any.whl (440 kB)\n",
            "\u001b[2K     \u001b[90m━━━━━━━━━━━━━━━━━━━━━━━━━━━━━━━━━━━━━━━━\u001b[0m \u001b[32m440.7/440.7 kB\u001b[0m \u001b[31m2.4 MB/s\u001b[0m eta \u001b[36m0:00:00\u001b[0m\n",
            "\u001b[?25hRequirement already satisfied: termcolor>=1.1.0 in /usr/local/lib/python3.10/dist-packages (from tensorflow==2.12.0) (2.4.0)\n",
            "Requirement already satisfied: typing-extensions>=3.6.6 in /usr/local/lib/python3.10/dist-packages (from tensorflow==2.12.0) (4.10.0)\n",
            "Requirement already satisfied: wrapt<1.15,>=1.11.0 in /usr/local/lib/python3.10/dist-packages (from tensorflow==2.12.0) (1.14.1)\n",
            "Requirement already satisfied: tensorflow-io-gcs-filesystem>=0.23.1 in /usr/local/lib/python3.10/dist-packages (from tensorflow==2.12.0) (0.36.0)\n",
            "Requirement already satisfied: wheel<1.0,>=0.23.0 in /usr/local/lib/python3.10/dist-packages (from astunparse>=1.6.0->tensorflow==2.12.0) (0.43.0)\n",
            "Requirement already satisfied: ml-dtypes>=0.2.0 in /usr/local/lib/python3.10/dist-packages (from jax>=0.3.15->tensorflow==2.12.0) (0.2.0)\n",
            "Requirement already satisfied: scipy>=1.9 in /usr/local/lib/python3.10/dist-packages (from jax>=0.3.15->tensorflow==2.12.0) (1.11.4)\n",
            "Requirement already satisfied: google-auth<3,>=1.6.3 in /usr/local/lib/python3.10/dist-packages (from tensorboard<2.13,>=2.12->tensorflow==2.12.0) (2.27.0)\n",
            "Collecting google-auth-oauthlib<1.1,>=0.5 (from tensorboard<2.13,>=2.12->tensorflow==2.12.0)\n",
            "  Downloading google_auth_oauthlib-1.0.0-py2.py3-none-any.whl (18 kB)\n",
            "Requirement already satisfied: markdown>=2.6.8 in /usr/local/lib/python3.10/dist-packages (from tensorboard<2.13,>=2.12->tensorflow==2.12.0) (3.6)\n",
            "Requirement already satisfied: requests<3,>=2.21.0 in /usr/local/lib/python3.10/dist-packages (from tensorboard<2.13,>=2.12->tensorflow==2.12.0) (2.31.0)\n",
            "Requirement already satisfied: tensorboard-data-server<0.8.0,>=0.7.0 in /usr/local/lib/python3.10/dist-packages (from tensorboard<2.13,>=2.12->tensorflow==2.12.0) (0.7.2)\n",
            "Requirement already satisfied: werkzeug>=1.0.1 in /usr/local/lib/python3.10/dist-packages (from tensorboard<2.13,>=2.12->tensorflow==2.12.0) (3.0.2)\n",
            "Requirement already satisfied: cachetools<6.0,>=2.0.0 in /usr/local/lib/python3.10/dist-packages (from google-auth<3,>=1.6.3->tensorboard<2.13,>=2.12->tensorflow==2.12.0) (5.3.3)\n",
            "Requirement already satisfied: pyasn1-modules>=0.2.1 in /usr/local/lib/python3.10/dist-packages (from google-auth<3,>=1.6.3->tensorboard<2.13,>=2.12->tensorflow==2.12.0) (0.4.0)\n",
            "Requirement already satisfied: rsa<5,>=3.1.4 in /usr/local/lib/python3.10/dist-packages (from google-auth<3,>=1.6.3->tensorboard<2.13,>=2.12->tensorflow==2.12.0) (4.9)\n",
            "Requirement already satisfied: requests-oauthlib>=0.7.0 in /usr/local/lib/python3.10/dist-packages (from google-auth-oauthlib<1.1,>=0.5->tensorboard<2.13,>=2.12->tensorflow==2.12.0) (1.3.1)\n",
            "Requirement already satisfied: charset-normalizer<4,>=2 in /usr/local/lib/python3.10/dist-packages (from requests<3,>=2.21.0->tensorboard<2.13,>=2.12->tensorflow==2.12.0) (3.3.2)\n",
            "Requirement already satisfied: idna<4,>=2.5 in /usr/local/lib/python3.10/dist-packages (from requests<3,>=2.21.0->tensorboard<2.13,>=2.12->tensorflow==2.12.0) (3.6)\n",
            "Requirement already satisfied: urllib3<3,>=1.21.1 in /usr/local/lib/python3.10/dist-packages (from requests<3,>=2.21.0->tensorboard<2.13,>=2.12->tensorflow==2.12.0) (2.0.7)\n",
            "Requirement already satisfied: certifi>=2017.4.17 in /usr/local/lib/python3.10/dist-packages (from requests<3,>=2.21.0->tensorboard<2.13,>=2.12->tensorflow==2.12.0) (2024.2.2)\n",
            "Requirement already satisfied: MarkupSafe>=2.1.1 in /usr/local/lib/python3.10/dist-packages (from werkzeug>=1.0.1->tensorboard<2.13,>=2.12->tensorflow==2.12.0) (2.1.5)\n",
            "Requirement already satisfied: pyasn1<0.7.0,>=0.4.6 in /usr/local/lib/python3.10/dist-packages (from pyasn1-modules>=0.2.1->google-auth<3,>=1.6.3->tensorboard<2.13,>=2.12->tensorflow==2.12.0) (0.6.0)\n",
            "Requirement already satisfied: oauthlib>=3.0.0 in /usr/local/lib/python3.10/dist-packages (from requests-oauthlib>=0.7.0->google-auth-oauthlib<1.1,>=0.5->tensorboard<2.13,>=2.12->tensorflow==2.12.0) (3.2.2)\n",
            "Installing collected packages: tensorflow-estimator, numpy, keras, gast, google-auth-oauthlib, tensorboard, tensorflow\n",
            "  Attempting uninstall: tensorflow-estimator\n",
            "    Found existing installation: tensorflow-estimator 2.15.0\n",
            "    Uninstalling tensorflow-estimator-2.15.0:\n",
            "      Successfully uninstalled tensorflow-estimator-2.15.0\n",
            "  Attempting uninstall: numpy\n",
            "    Found existing installation: numpy 1.25.2\n",
            "    Uninstalling numpy-1.25.2:\n",
            "      Successfully uninstalled numpy-1.25.2\n",
            "  Attempting uninstall: keras\n",
            "    Found existing installation: keras 2.15.0\n",
            "    Uninstalling keras-2.15.0:\n",
            "      Successfully uninstalled keras-2.15.0\n",
            "  Attempting uninstall: gast\n",
            "    Found existing installation: gast 0.5.4\n",
            "    Uninstalling gast-0.5.4:\n",
            "      Successfully uninstalled gast-0.5.4\n",
            "  Attempting uninstall: google-auth-oauthlib\n",
            "    Found existing installation: google-auth-oauthlib 1.2.0\n",
            "    Uninstalling google-auth-oauthlib-1.2.0:\n",
            "      Successfully uninstalled google-auth-oauthlib-1.2.0\n",
            "  Attempting uninstall: tensorboard\n",
            "    Found existing installation: tensorboard 2.15.2\n",
            "    Uninstalling tensorboard-2.15.2:\n",
            "      Successfully uninstalled tensorboard-2.15.2\n",
            "  Attempting uninstall: tensorflow\n",
            "    Found existing installation: tensorflow 2.15.0\n",
            "    Uninstalling tensorflow-2.15.0:\n",
            "      Successfully uninstalled tensorflow-2.15.0\n",
            "\u001b[31mERROR: pip's dependency resolver does not currently take into account all the packages that are installed. This behaviour is the source of the following dependency conflicts.\n",
            "chex 0.1.86 requires numpy>=1.24.1, but you have numpy 1.23.5 which is incompatible.\n",
            "pandas-stubs 2.0.3.230814 requires numpy>=1.25.0; python_version >= \"3.9\", but you have numpy 1.23.5 which is incompatible.\n",
            "tf-keras 2.15.1 requires tensorflow<2.16,>=2.15, but you have tensorflow 2.12.0 which is incompatible.\u001b[0m\u001b[31m\n",
            "\u001b[0mSuccessfully installed gast-0.4.0 google-auth-oauthlib-1.0.0 keras-2.12.0 numpy-1.23.5 tensorboard-2.12.3 tensorflow-2.12.0 tensorflow-estimator-2.12.0\n"
          ]
        },
        {
          "output_type": "display_data",
          "data": {
            "application/vnd.colab-display-data+json": {
              "pip_warning": {
                "packages": [
                  "numpy"
                ]
              },
              "id": "f5cd17e1124c422eb003b4b7ab05372e"
            }
          },
          "metadata": {}
        },
        {
          "output_type": "stream",
          "name": "stdout",
          "text": [
            "Requirement already satisfied: keras==2.12.0 in /usr/local/lib/python3.10/dist-packages (2.12.0)\n",
            "\u001b[31mERROR: Operation cancelled by user\u001b[0m\u001b[31m\n",
            "\u001b[0m"
          ]
        }
      ]
    },
    {
      "cell_type": "markdown",
      "source": [
        "### Library"
      ],
      "metadata": {
        "id": "u9DheIlWzsBs"
      }
    },
    {
      "cell_type": "code",
      "source": [
        "import numpy as np\n",
        "import matplotlib.pyplot as plt\n",
        "import tensorflow as tf\n",
        "from tensorflow import keras\n",
        "import pandas as pd\n",
        "from sklearn.model_selection import train_test_split\n",
        "from keras.models import Sequential, Model, load_model\n",
        "from keras.layers import Dense, Flatten, Conv2D, MaxPooling2D, Dropout, Input, GlobalAveragePooling2D\n",
        "from keras.callbacks import ModelCheckpoint, EarlyStopping, TensorBoard\n",
        "from keras.applications import ResNet50\n",
        "from keras.wrappers.scikit_learn import KerasClassifier\n",
        "from sklearn.model_selection import GridSearchCV\n",
        "from keras.initializers import he_normal, glorot_uniform\n",
        "from time import time\n",
        "\n"
      ],
      "metadata": {
        "id": "1AZqagiTzx30"
      },
      "execution_count": 43,
      "outputs": []
    },
    {
      "cell_type": "markdown",
      "source": [
        "### Charger le google drive"
      ],
      "metadata": {
        "id": "2aCecLBVzVYK"
      }
    },
    {
      "cell_type": "code",
      "execution_count": 2,
      "metadata": {
        "colab": {
          "base_uri": "https://localhost:8080/"
        },
        "id": "I09o5jRTxwAg",
        "outputId": "013b6eaf-5f4a-4532-df92-dbf58532ce28"
      },
      "outputs": [
        {
          "output_type": "stream",
          "name": "stdout",
          "text": [
            "Mounted at /content/gdrive\n"
          ]
        }
      ],
      "source": [
        "from google.colab import drive\n",
        "drive.mount('/content/gdrive')"
      ]
    },
    {
      "cell_type": "markdown",
      "source": [
        "### 1-Download the X and y data using the load function from the numpy package."
      ],
      "metadata": {
        "id": "nGyG3Ib9zmE0"
      }
    },
    {
      "cell_type": "code",
      "source": [
        "# Charger les données X et y\n",
        "X = np.load('/content/gdrive/MyDrive/data/X.npy')\n",
        "y = np.load('/content/gdrive/MyDrive/data/y.npy')"
      ],
      "metadata": {
        "id": "q00DUW1Ly0QT"
      },
      "execution_count": 3,
      "outputs": []
    },
    {
      "cell_type": "markdown",
      "source": [
        "### 2-Plot 8 images and show their labels."
      ],
      "metadata": {
        "id": "eteVax1q0R2c"
      }
    },
    {
      "cell_type": "code",
      "source": [
        "# Sélectionner aléatoirement 8 images et leurs étiquettes\n",
        "indices = np.random.choice(range(X.shape[0]), 8, replace=False)\n",
        "selected_images = X[indices]\n",
        "selected_labels = y[indices]\n",
        "\n",
        "# Afficher les 8 images et leurs étiquettes\n",
        "fig, axes = plt.subplots(2, 4, figsize=(12, 6))\n",
        "for i, ax in enumerate(axes.flat):\n",
        "    ax.imshow(selected_images[i], cmap='gray')\n",
        "    ax.set_title(f\"Label: {selected_labels[i]}\")\n",
        "    ax.axis('off')\n",
        "\n",
        "plt.tight_layout()\n",
        "plt.show()"
      ],
      "metadata": {
        "colab": {
          "base_uri": "https://localhost:8080/",
          "height": 610
        },
        "id": "U5VqL1Nj0S7r",
        "outputId": "4c166014-db1b-4f22-f5aa-f4e7e055dfd0"
      },
      "execution_count": 4,
      "outputs": [
        {
          "output_type": "display_data",
          "data": {
            "text/plain": [
              "<Figure size 1200x600 with 8 Axes>"
            ],
            "image/png": "[encoded data removed]"
          },
          "metadata": {}
        }
      ]
    },
    {
      "cell_type": "markdown",
      "source": [
        "<p> Nous pouvons voir ici que la class [1. 0.] correspond au chat et la class [0. 1.] correspond au chien. </p>"
      ],
      "metadata": {
        "id": "XMQZNbdXadN6"
      }
    },
    {
      "cell_type": "markdown",
      "source": [
        "### 3-Split the data on train and test set (12 %)."
      ],
      "metadata": {
        "id": "SOX80jFC1GrF"
      }
    },
    {
      "cell_type": "code",
      "source": [
        "# Vérifier les dimensions des ensembles pour s'assurer de la séparation\n",
        "X.shape, y.shape"
      ],
      "metadata": {
        "colab": {
          "base_uri": "https://localhost:8080/"
        },
        "id": "ivr9nRmu3N09",
        "outputId": "424eb356-a295-412b-d95f-5bc027d7744e"
      },
      "execution_count": 5,
      "outputs": [
        {
          "output_type": "execute_result",
          "data": {
            "text/plain": [
              "((10000, 50, 50, 3), (10000, 2))"
            ]
          },
          "metadata": {},
          "execution_count": 5
        }
      ]
    },
    {
      "cell_type": "code",
      "source": [
        "# Séparation des données en ensembles d'entraînement et de test (12 % pour le test)\n",
        "X_train, X_test, y_train, y_test = train_test_split(X, y, test_size=0.12, random_state=42)"
      ],
      "metadata": {
        "id": "LtQRW-Hw2xe1"
      },
      "execution_count": 6,
      "outputs": []
    },
    {
      "cell_type": "code",
      "source": [
        "# Vérifier les dimensions des ensembles pour s'assurer de la séparation\n",
        "X_train.shape, X_test.shape, y_train.shape, y_test.shape"
      ],
      "metadata": {
        "colab": {
          "base_uri": "https://localhost:8080/"
        },
        "id": "UOHFyEg428C1",
        "outputId": "9d449f2d-0a51-49a5-db46-63153bc552b8"
      },
      "execution_count": 7,
      "outputs": [
        {
          "output_type": "execute_result",
          "data": {
            "text/plain": [
              "((8800, 50, 50, 3), (1200, 50, 50, 3), (8800, 2), (1200, 2))"
            ]
          },
          "metadata": {},
          "execution_count": 7
        }
      ]
    },
    {
      "cell_type": "code",
      "source": [
        "# Normaliser les données d'image pour accélérer l'apprentissage\n",
        "#X_train = X_train / 255.0\n",
        "#X_test = X_test / 255.0"
      ],
      "metadata": {
        "id": "T6O05bnW4zlN"
      },
      "execution_count": null,
      "outputs": []
    },
    {
      "cell_type": "markdown",
      "source": [
        "### 4. Define a first learning model without the CNN cell with 4 hidden dense layers and give the validation and test scores."
      ],
      "metadata": {
        "id": "X85617-r5wT-"
      }
    },
    {
      "cell_type": "code",
      "source": [
        "# Définir le modèle\n",
        "model = Sequential([\n",
        "    Flatten(input_shape=(50, 50, 3),name=\"InputLayer\"), # Aplatir les images d'entrée avec Flatten\n",
        "    Dense(256, activation='relu',name=\"Dense_n1\"), # Premier couche dense (couche caché)\n",
        "    Dense(128, activation='relu',name=\"Dense_n2\"), # Deuxieme couche dense (couche caché)\n",
        "    Dense(64, activation='relu',name=\"Dense_n3\"), # Troisième couche dense (couche caché)\n",
        "    Dense(2, activation='softmax',name=\"Output\") # Couche de sortie pour classification binaire\n",
        "])\n"
      ],
      "metadata": {
        "id": "bdVo8xzV6gh2"
      },
      "execution_count": 8,
      "outputs": []
    },
    {
      "cell_type": "code",
      "source": [
        "model.summary()"
      ],
      "metadata": {
        "colab": {
          "base_uri": "https://localhost:8080/"
        },
        "id": "tDxy2cU17VXu",
        "outputId": "18ea0deb-75b8-46b7-8c2b-3bd3ba0f4f9b"
      },
      "execution_count": 9,
      "outputs": [
        {
          "output_type": "stream",
          "name": "stdout",
          "text": [
            "Model: \"sequential\"\n",
            "_________________________________________________________________\n",
            " Layer (type)                Output Shape              Param #   \n",
            "=================================================================\n",
            " InputLayer (Flatten)        (None, 7500)              0         \n",
            "                                                                 \n",
            " Dense_n1 (Dense)            (None, 256)               1920256   \n",
            "                                                                 \n",
            " Dense_n2 (Dense)            (None, 128)               32896     \n",
            "                                                                 \n",
            " Dense_n3 (Dense)            (None, 64)                8256      \n",
            "                                                                 \n",
            " Output (Dense)              (None, 2)                 130       \n",
            "                                                                 \n",
            "=================================================================\n",
            "Total params: 1,961,538\n",
            "Trainable params: 1,961,538\n",
            "Non-trainable params: 0\n",
            "_________________________________________________________________\n"
          ]
        }
      ]
    },
    {
      "cell_type": "code",
      "source": [
        "# Compiler le modèle en définissant les paramètres\n",
        "model.compile(optimizer='adam', loss='categorical_crossentropy', metrics=['accuracy'])\n"
      ],
      "metadata": {
        "id": "zQr2MZrd6iTu"
      },
      "execution_count": 10,
      "outputs": []
    },
    {
      "cell_type": "code",
      "source": [
        "# Callbacks\n",
        "es = EarlyStopping(monitor='val_accuracy', mode='max', verbose=1, patience=5)\n",
        "mc = ModelCheckpoint('model_best.h5', monitor='val_accuracy', mode='max', verbose=1, save_best_only=True)\n"
      ],
      "metadata": {
        "id": "5EommJMA64we"
      },
      "execution_count": 11,
      "outputs": []
    },
    {
      "cell_type": "code",
      "source": [
        "#Entrainement du model\n",
        "history = model.fit(X_train, y_train, epochs=50, batch_size=100, validation_split=0.12, callbacks=[es ,mc])\n",
        "# Charger le meilleur modèle enregistré\n",
        "saved_model = load_model('model_best.h5')"
      ],
      "metadata": {
        "colab": {
          "base_uri": "https://localhost:8080/"
        },
        "id": "vVBWGe7F67cm",
        "outputId": "c07b45f7-d792-4162-c42f-c0dd325735dd"
      },
      "execution_count": 12,
      "outputs": [
        {
          "output_type": "stream",
          "name": "stdout",
          "text": [
            "Epoch 1/50\n",
            "78/78 [==============================] - ETA: 0s - loss: 0.8206 - accuracy: 0.5210\n",
            "Epoch 1: val_accuracy improved from -inf to 0.49811, saving model to model_best.h5\n",
            "78/78 [==============================] - 5s 48ms/step - loss: 0.8206 - accuracy: 0.5210 - val_loss: 0.7253 - val_accuracy: 0.4981\n",
            "Epoch 2/50\n",
            "77/78 [============================>.] - ETA: 0s - loss: 0.6868 - accuracy: 0.5562\n",
            "Epoch 2: val_accuracy improved from 0.49811 to 0.54545, saving model to model_best.h5\n",
            "78/78 [==============================] - 3s 36ms/step - loss: 0.6866 - accuracy: 0.5563 - val_loss: 0.7145 - val_accuracy: 0.5455\n",
            "Epoch 3/50\n",
            "77/78 [============================>.] - ETA: 0s - loss: 0.6758 - accuracy: 0.5816\n",
            "Epoch 3: val_accuracy did not improve from 0.54545\n",
            "78/78 [==============================] - 3s 36ms/step - loss: 0.6756 - accuracy: 0.5819 - val_loss: 0.7745 - val_accuracy: 0.5360\n",
            "Epoch 4/50\n",
            "77/78 [============================>.] - ETA: 0s - loss: 0.6826 - accuracy: 0.5797\n",
            "Epoch 4: val_accuracy improved from 0.54545 to 0.61269, saving model to model_best.h5\n",
            "78/78 [==============================] - 3s 42ms/step - loss: 0.6822 - accuracy: 0.5802 - val_loss: 0.6521 - val_accuracy: 0.6127\n",
            "Epoch 5/50\n",
            "77/78 [============================>.] - ETA: 0s - loss: 0.6610 - accuracy: 0.6051\n",
            "Epoch 5: val_accuracy did not improve from 0.61269\n",
            "78/78 [==============================] - 4s 47ms/step - loss: 0.6610 - accuracy: 0.6049 - val_loss: 0.6746 - val_accuracy: 0.5871\n",
            "Epoch 6/50\n",
            "77/78 [============================>.] - ETA: 0s - loss: 0.6625 - accuracy: 0.5987\n",
            "Epoch 6: val_accuracy did not improve from 0.61269\n",
            "78/78 [==============================] - 3s 36ms/step - loss: 0.6625 - accuracy: 0.5987 - val_loss: 0.6728 - val_accuracy: 0.5578\n",
            "Epoch 7/50\n",
            "77/78 [============================>.] - ETA: 0s - loss: 0.6567 - accuracy: 0.6074\n",
            "Epoch 7: val_accuracy did not improve from 0.61269\n",
            "78/78 [==============================] - 3s 35ms/step - loss: 0.6565 - accuracy: 0.6078 - val_loss: 0.6725 - val_accuracy: 0.5909\n",
            "Epoch 8/50\n",
            "78/78 [==============================] - ETA: 0s - loss: 0.6520 - accuracy: 0.6120\n",
            "Epoch 8: val_accuracy did not improve from 0.61269\n",
            "78/78 [==============================] - 3s 37ms/step - loss: 0.6520 - accuracy: 0.6120 - val_loss: 0.6783 - val_accuracy: 0.5909\n",
            "Epoch 9/50\n",
            "78/78 [==============================] - ETA: 0s - loss: 0.6573 - accuracy: 0.6130\n",
            "Epoch 9: val_accuracy did not improve from 0.61269\n",
            "78/78 [==============================] - 4s 53ms/step - loss: 0.6573 - accuracy: 0.6130 - val_loss: 0.6699 - val_accuracy: 0.6098\n",
            "Epoch 9: early stopping\n"
          ]
        }
      ]
    },
    {
      "cell_type": "code",
      "source": [
        "# Évaluer le modèle sur l'ensemble de test\n",
        "test_loss, test_accuracy = model.evaluate(X_test, y_test)\n",
        "\n",
        "print(f\"Test Loss: {test_loss}\")\n",
        "print(f\"Test Accuracy: {test_accuracy}\")"
      ],
      "metadata": {
        "colab": {
          "base_uri": "https://localhost:8080/"
        },
        "id": "8b7PIsMH695-",
        "outputId": "02772551-c827-4bfa-c633-f61c9228f5d7"
      },
      "execution_count": 13,
      "outputs": [
        {
          "output_type": "stream",
          "name": "stdout",
          "text": [
            "38/38 [==============================] - 0s 6ms/step - loss: 0.6779 - accuracy: 0.5642\n",
            "Test Loss: 0.6778560876846313\n",
            "Test Accuracy: 0.5641666650772095\n"
          ]
        }
      ]
    },
    {
      "cell_type": "markdown",
      "source": [
        "### 5. Write a function for plotting the predicted labels. The result should indicate the probability of the predicted label with blue color if the prediction is correct otherwise in the red color."
      ],
      "metadata": {
        "id": "d1FcHE8NC3ey"
      }
    },
    {
      "cell_type": "code",
      "source": [
        "def plot_image(i, predictions_array, true_label, img):\n",
        "    predicted_label = np.argmax(predictions_array)\n",
        "    plt.grid(False)\n",
        "    plt.xticks([])\n",
        "    plt.yticks([])\n",
        "\n",
        "    plt.imshow(img, cmap=plt.cm.binary)\n",
        "\n",
        "    # Convertir true_label en entier\n",
        "    true_label = np.argmax(true_label)\n",
        "\n",
        "    # Afficher la prédiction en bleu si elle est correcte, sinon en rouge\n",
        "    color = 'blue' if predicted_label == true_label else 'red'\n",
        "\n",
        "    # Définir les noms de classes\n",
        "    class_names = ['Chat', 'Chien']\n",
        "\n",
        "    plt.xlabel(\"{} {:2.0f}% ({})\".format(class_names[predicted_label],\n",
        "                                         100 * np.max(predictions_array),\n",
        "                                         class_names[true_label]),\n",
        "               color=color)"
      ],
      "metadata": {
        "id": "fQAlTb1kC5qR"
      },
      "execution_count": 14,
      "outputs": []
    },
    {
      "cell_type": "code",
      "source": [
        "num_rows = 2\n",
        "num_cols = 4\n",
        "num_images = num_rows * num_cols\n",
        "plt.figure(figsize=(2*num_cols, 2*num_rows))\n",
        "random_indices = np.random.choice(len(X_test), num_images, replace=False)\n",
        "\n",
        "for i, idx in enumerate(random_indices):\n",
        "    plt.subplot(num_rows, num_cols, i+1)\n",
        "    plot_image(idx, saved_model.predict(X_test[idx].reshape(1, 50, 50, 3)), y_test[idx], X_test[idx])\n",
        "\n",
        "plt.tight_layout()\n",
        "plt.show()"
      ],
      "metadata": {
        "colab": {
          "base_uri": "https://localhost:8080/",
          "height": 545
        },
        "id": "KDvssMVtOSke",
        "outputId": "66b7fc5c-08d6-4395-b9cb-2e6316ba1378"
      },
      "execution_count": 15,
      "outputs": [
        {
          "output_type": "stream",
          "name": "stdout",
          "text": [
            "1/1 [==============================] - 0s 78ms/step\n",
            "1/1 [==============================] - 0s 17ms/step\n",
            "1/1 [==============================] - 0s 17ms/step\n",
            "1/1 [==============================] - 0s 18ms/step\n",
            "1/1 [==============================] - 0s 18ms/step\n",
            "1/1 [==============================] - 0s 19ms/step\n",
            "1/1 [==============================] - 0s 19ms/step\n",
            "1/1 [==============================] - 0s 19ms/step\n"
          ]
        },
        {
          "output_type": "display_data",
          "data": {
            "text/plain": [
              "<Figure size 800x400 with 8 Axes>"
            ],
            "image/png": "[encoded data removed]"
          },
          "metadata": {}
        }
      ]
    },
    {
      "cell_type": "markdown",
      "source": [
        "<p> Nous pouvons voir que le model nous ressort bien en bleu (bonne prédiction), rouge (mauvaise prédiction) les class prédite avec le pourcentage de prédiction pour ces class. De plus, nous pouvons retrouver juste a coté du pourcentage de prédition la véritable class entre parenthése. </p>"
      ],
      "metadata": {
        "id": "OQP7myiKbcha"
      }
    },
    {
      "cell_type": "markdown",
      "source": [
        "### 6. Train a second model using the following CNN structure Conv −pool −conv −pool −conv −conv − pool − dense − dense.\n"
      ],
      "metadata": {
        "id": "R8pH6LjqS3F3"
      }
    },
    {
      "cell_type": "code",
      "source": [
        "# Définir le modèle CNN\n",
        "model_cnn = Sequential([\n",
        "    # Première couche de convolution et max pooling\n",
        "    Conv2D(32, (3, 3), activation='relu', input_shape=(50, 50, 3)),\n",
        "    MaxPooling2D(2, 2),\n",
        "\n",
        "    # Deuxième couche de convolution et max pooling\n",
        "    Conv2D(64, (3, 3), activation='relu'),\n",
        "    MaxPooling2D(2, 2),\n",
        "\n",
        "    # Troisième et quatrième couches de convolution, suivies d'un max pooling\n",
        "    Conv2D(128, (3, 3), activation='relu'),\n",
        "    Conv2D(128, (3, 3), activation='relu'),\n",
        "    MaxPooling2D(2, 2),\n",
        "\n",
        "    # Aplatir le résultat pour le connecter aux couches denses\n",
        "    Flatten(),\n",
        "\n",
        "    # Couches denses\n",
        "    Dense(512, activation='relu'),\n",
        "    Dense(2, activation='softmax')  # 2 classes\n",
        "])"
      ],
      "metadata": {
        "id": "sIbfjXzVS8Dv"
      },
      "execution_count": 16,
      "outputs": []
    },
    {
      "cell_type": "code",
      "source": [
        "# Compiler le modèle\n",
        "model_cnn.compile(optimizer='adam',\n",
        "                  loss='categorical_crossentropy',\n",
        "                  metrics=['accuracy'])\n",
        "\n",
        "model_cnn.summary()"
      ],
      "metadata": {
        "colab": {
          "base_uri": "https://localhost:8080/"
        },
        "id": "CBjboHt4S9zf",
        "outputId": "08a9f9ab-a050-4039-98c3-b16c4a97f583"
      },
      "execution_count": 17,
      "outputs": [
        {
          "output_type": "stream",
          "name": "stdout",
          "text": [
            "Model: \"sequential_1\"\n",
            "_________________________________________________________________\n",
            " Layer (type)                Output Shape              Param #   \n",
            "=================================================================\n",
            " conv2d (Conv2D)             (None, 48, 48, 32)        896       \n",
            "                                                                 \n",
            " max_pooling2d (MaxPooling2D  (None, 24, 24, 32)       0         \n",
            " )                                                               \n",
            "                                                                 \n",
            " conv2d_1 (Conv2D)           (None, 22, 22, 64)        18496     \n",
            "                                                                 \n",
            " max_pooling2d_1 (MaxPooling  (None, 11, 11, 64)       0         \n",
            " 2D)                                                             \n",
            "                                                                 \n",
            " conv2d_2 (Conv2D)           (None, 9, 9, 128)         73856     \n",
            "                                                                 \n",
            " conv2d_3 (Conv2D)           (None, 7, 7, 128)         147584    \n",
            "                                                                 \n",
            " max_pooling2d_2 (MaxPooling  (None, 3, 3, 128)        0         \n",
            " 2D)                                                             \n",
            "                                                                 \n",
            " flatten (Flatten)           (None, 1152)              0         \n",
            "                                                                 \n",
            " dense (Dense)               (None, 512)               590336    \n",
            "                                                                 \n",
            " dense_1 (Dense)             (None, 2)                 1026      \n",
            "                                                                 \n",
            "=================================================================\n",
            "Total params: 832,194\n",
            "Trainable params: 832,194\n",
            "Non-trainable params: 0\n",
            "_________________________________________________________________\n"
          ]
        }
      ]
    },
    {
      "cell_type": "code",
      "source": [
        "# Callbacks\n",
        "es = EarlyStopping(monitor='val_accuracy', patience=5, verbose=1, mode='max')\n",
        "mc = ModelCheckpoint('model_cnn_best.h5', monitor='val_accuracy', mode='max', save_best_only=True, verbose=1)\n"
      ],
      "metadata": {
        "id": "1o8Oz1nTU-Jw"
      },
      "execution_count": 18,
      "outputs": []
    },
    {
      "cell_type": "code",
      "source": [
        "# Entraîner le modèle\n",
        "history_cnn = model_cnn.fit(\n",
        "    X_train, y_train,\n",
        "    epochs=50,\n",
        "    batch_size=100,\n",
        "    validation_split=0.12,  # Utilisation de 12% des données d'entraînement pour la validation\n",
        "    callbacks=[es, mc]\n",
        ")\n",
        "\n",
        "# Charger le meilleur modèle enregistré\n",
        "model_cnn_best = load_model('model_cnn_best.h5')"
      ],
      "metadata": {
        "colab": {
          "base_uri": "https://localhost:8080/"
        },
        "id": "cBtWSRrEU_AI",
        "outputId": "b9c61e54-c206-4f10-cf78-9d44d46b74e7"
      },
      "execution_count": 19,
      "outputs": [
        {
          "output_type": "stream",
          "name": "stdout",
          "text": [
            "Epoch 1/50\n",
            "78/78 [==============================] - ETA: 0s - loss: 0.6846 - accuracy: 0.5502\n",
            "Epoch 1: val_accuracy improved from -inf to 0.60795, saving model to model_cnn_best.h5\n",
            "78/78 [==============================] - 48s 559ms/step - loss: 0.6846 - accuracy: 0.5502 - val_loss: 0.6548 - val_accuracy: 0.6080\n",
            "Epoch 2/50\n",
            "78/78 [==============================] - ETA: 0s - loss: 0.6509 - accuracy: 0.6173\n",
            "Epoch 2: val_accuracy improved from 0.60795 to 0.63163, saving model to model_cnn_best.h5\n",
            "78/78 [==============================] - 39s 507ms/step - loss: 0.6509 - accuracy: 0.6173 - val_loss: 0.6394 - val_accuracy: 0.6316\n",
            "Epoch 3/50\n",
            "78/78 [==============================] - ETA: 0s - loss: 0.6326 - accuracy: 0.6414\n",
            "Epoch 3: val_accuracy improved from 0.63163 to 0.68087, saving model to model_cnn_best.h5\n",
            "78/78 [==============================] - 42s 534ms/step - loss: 0.6326 - accuracy: 0.6414 - val_loss: 0.6099 - val_accuracy: 0.6809\n",
            "Epoch 4/50\n",
            "78/78 [==============================] - ETA: 0s - loss: 0.5936 - accuracy: 0.6755\n",
            "Epoch 4: val_accuracy did not improve from 0.68087\n",
            "78/78 [==============================] - 40s 516ms/step - loss: 0.5936 - accuracy: 0.6755 - val_loss: 0.6052 - val_accuracy: 0.6667\n",
            "Epoch 5/50\n",
            "78/78 [==============================] - ETA: 0s - loss: 0.5561 - accuracy: 0.7111\n",
            "Epoch 5: val_accuracy improved from 0.68087 to 0.72538, saving model to model_cnn_best.h5\n",
            "78/78 [==============================] - 39s 504ms/step - loss: 0.5561 - accuracy: 0.7111 - val_loss: 0.5637 - val_accuracy: 0.7254\n",
            "Epoch 6/50\n",
            "78/78 [==============================] - ETA: 0s - loss: 0.5264 - accuracy: 0.7370\n",
            "Epoch 6: val_accuracy did not improve from 0.72538\n",
            "78/78 [==============================] - 38s 482ms/step - loss: 0.5264 - accuracy: 0.7370 - val_loss: 0.5448 - val_accuracy: 0.7083\n",
            "Epoch 7/50\n",
            "78/78 [==============================] - ETA: 0s - loss: 0.4848 - accuracy: 0.7607\n",
            "Epoch 7: val_accuracy improved from 0.72538 to 0.73295, saving model to model_cnn_best.h5\n",
            "78/78 [==============================] - 40s 508ms/step - loss: 0.4848 - accuracy: 0.7607 - val_loss: 0.5459 - val_accuracy: 0.7330\n",
            "Epoch 8/50\n",
            "78/78 [==============================] - ETA: 0s - loss: 0.4528 - accuracy: 0.7872\n",
            "Epoch 8: val_accuracy did not improve from 0.73295\n",
            "78/78 [==============================] - 40s 507ms/step - loss: 0.4528 - accuracy: 0.7872 - val_loss: 0.5786 - val_accuracy: 0.7093\n",
            "Epoch 9/50\n",
            "78/78 [==============================] - ETA: 0s - loss: 0.4177 - accuracy: 0.8051\n",
            "Epoch 9: val_accuracy did not improve from 0.73295\n",
            "78/78 [==============================] - 40s 508ms/step - loss: 0.4177 - accuracy: 0.8051 - val_loss: 0.5609 - val_accuracy: 0.7150\n",
            "Epoch 10/50\n",
            "78/78 [==============================] - ETA: 0s - loss: 0.3833 - accuracy: 0.8244\n",
            "Epoch 10: val_accuracy improved from 0.73295 to 0.76231, saving model to model_cnn_best.h5\n",
            "78/78 [==============================] - 40s 512ms/step - loss: 0.3833 - accuracy: 0.8244 - val_loss: 0.5279 - val_accuracy: 0.7623\n",
            "Epoch 11/50\n",
            "78/78 [==============================] - ETA: 0s - loss: 0.3302 - accuracy: 0.8573\n",
            "Epoch 11: val_accuracy did not improve from 0.76231\n",
            "78/78 [==============================] - 39s 507ms/step - loss: 0.3302 - accuracy: 0.8573 - val_loss: 0.5788 - val_accuracy: 0.7320\n",
            "Epoch 12/50\n",
            "78/78 [==============================] - ETA: 0s - loss: 0.2806 - accuracy: 0.8769\n",
            "Epoch 12: val_accuracy improved from 0.76231 to 0.77178, saving model to model_cnn_best.h5\n",
            "78/78 [==============================] - 40s 511ms/step - loss: 0.2806 - accuracy: 0.8769 - val_loss: 0.5832 - val_accuracy: 0.7718\n",
            "Epoch 13/50\n",
            "78/78 [==============================] - ETA: 0s - loss: 0.2367 - accuracy: 0.9007\n",
            "Epoch 13: val_accuracy did not improve from 0.77178\n",
            "78/78 [==============================] - 40s 512ms/step - loss: 0.2367 - accuracy: 0.9007 - val_loss: 0.6883 - val_accuracy: 0.7216\n",
            "Epoch 14/50\n",
            "78/78 [==============================] - ETA: 0s - loss: 0.1638 - accuracy: 0.9365\n",
            "Epoch 14: val_accuracy did not improve from 0.77178\n",
            "78/78 [==============================] - 39s 503ms/step - loss: 0.1638 - accuracy: 0.9365 - val_loss: 0.7558 - val_accuracy: 0.7595\n",
            "Epoch 15/50\n",
            "78/78 [==============================] - ETA: 0s - loss: 0.1396 - accuracy: 0.9433\n",
            "Epoch 15: val_accuracy did not improve from 0.77178\n",
            "78/78 [==============================] - 38s 489ms/step - loss: 0.1396 - accuracy: 0.9433 - val_loss: 0.7900 - val_accuracy: 0.7443\n",
            "Epoch 16/50\n",
            "78/78 [==============================] - ETA: 0s - loss: 0.0885 - accuracy: 0.9685\n",
            "Epoch 16: val_accuracy did not improve from 0.77178\n",
            "78/78 [==============================] - 39s 498ms/step - loss: 0.0885 - accuracy: 0.9685 - val_loss: 1.1176 - val_accuracy: 0.7235\n",
            "Epoch 17/50\n",
            "78/78 [==============================] - ETA: 0s - loss: 0.0683 - accuracy: 0.9768\n",
            "Epoch 17: val_accuracy did not improve from 0.77178\n",
            "78/78 [==============================] - 39s 500ms/step - loss: 0.0683 - accuracy: 0.9768 - val_loss: 1.1253 - val_accuracy: 0.7614\n",
            "Epoch 17: early stopping\n"
          ]
        }
      ]
    },
    {
      "cell_type": "markdown",
      "source": [
        "### 7. Compute the validation and test scores."
      ],
      "metadata": {
        "id": "KwIELlJCWv76"
      }
    },
    {
      "cell_type": "code",
      "source": [
        "# Évaluer le modèle sur l'ensemble de test\n",
        "test_loss_cnn, test_accuracy_cnn = model_cnn_best.evaluate(X_test, y_test)\n",
        "\n",
        "print(f\"Test Loss: {test_loss_cnn}\")\n",
        "print(f\"Test Accuracy: {test_accuracy_cnn}\")"
      ],
      "metadata": {
        "colab": {
          "base_uri": "https://localhost:8080/"
        },
        "id": "W13ch5FgVBwP",
        "outputId": "8adabcbe-f2a9-4509-d3e4-fb3c36e36d2d"
      },
      "execution_count": 20,
      "outputs": [
        {
          "output_type": "stream",
          "name": "stdout",
          "text": [
            "38/38 [==============================] - 3s 68ms/step - loss: 0.6206 - accuracy: 0.7525\n",
            "Test Loss: 0.620603084564209\n",
            "Test Accuracy: 0.7524999976158142\n"
          ]
        }
      ]
    },
    {
      "cell_type": "markdown",
      "source": [
        "### 8. Train one transfert learning approaches from the Keras API (not the same seen during the course).\n"
      ],
      "metadata": {
        "id": "L-gZ8yEfXERY"
      }
    },
    {
      "cell_type": "code",
      "source": [
        "# Charger ResNet50 pré-entraîné sans la couche supérieure\n",
        "base_model = ResNet50(weights='imagenet', include_top=False, input_shape=(50, 50, 3))"
      ],
      "metadata": {
        "id": "7R2bEUVhX2UY",
        "colab": {
          "base_uri": "https://localhost:8080/"
        },
        "outputId": "86b05dcf-8883-4bed-e663-7708b2785547"
      },
      "execution_count": 21,
      "outputs": [
        {
          "output_type": "stream",
          "name": "stdout",
          "text": [
            "Downloading data from https://storage.googleapis.com/tensorflow/keras-applications/resnet/resnet50_weights_tf_dim_ordering_tf_kernels_notop.h5\n",
            "94765736/94765736 [==============================] - 0s 0us/step\n"
          ]
        }
      ]
    },
    {
      "cell_type": "code",
      "source": [
        "# Geler toutes les couches du modèle de base pour empêcher leur modification pendant l'entraînement\n",
        "for layer in base_model.layers:\n",
        "    layer.trainable = False"
      ],
      "metadata": {
        "id": "NLImpBunX5PZ"
      },
      "execution_count": 22,
      "outputs": []
    },
    {
      "cell_type": "code",
      "source": [
        "# Ajouter des couches personnalisées\n",
        "x = base_model.output\n",
        "x = GlobalAveragePooling2D()(x)  # Ajouter un pooling pour réduire la dimensionnalité\n",
        "x = Dense(1024, activation='relu')(x)  # Ajouter une couche dense\n",
        "predictions = Dense(2, activation='softmax')(x)  # Couche de sortie pour 2 classes\n"
      ],
      "metadata": {
        "id": "5eoZR1SJX6S5"
      },
      "execution_count": 23,
      "outputs": []
    },
    {
      "cell_type": "code",
      "source": [
        "# Créer le nouveau modèle\n",
        "model_transfer = Model(inputs=base_model.input, outputs=predictions)\n"
      ],
      "metadata": {
        "id": "v4ElLoMHX7MB"
      },
      "execution_count": 24,
      "outputs": []
    },
    {
      "cell_type": "code",
      "source": [
        "# Compiler le modèle\n",
        "model_transfer.compile(optimizer='adam', loss='categorical_crossentropy', metrics=['accuracy'])\n"
      ],
      "metadata": {
        "id": "RZD-u9_OX7_p"
      },
      "execution_count": 25,
      "outputs": []
    },
    {
      "cell_type": "code",
      "source": [
        "# Afficher le résumé du modèle\n",
        "model_transfer.summary()\n"
      ],
      "metadata": {
        "colab": {
          "base_uri": "https://localhost:8080/"
        },
        "id": "lWj7B5jiX87J",
        "outputId": "9b3390c4-a66b-4f83-99ff-45ed00c6edbc"
      },
      "execution_count": 26,
      "outputs": [
        {
          "output_type": "stream",
          "name": "stdout",
          "text": [
            "Model: \"model\"\n",
            "__________________________________________________________________________________________________\n",
            " Layer (type)                   Output Shape         Param #     Connected to                     \n",
            "==================================================================================================\n",
            " input_1 (InputLayer)           [(None, 50, 50, 3)]  0           []                               \n",
            "                                                                                                  \n",
            " conv1_pad (ZeroPadding2D)      (None, 56, 56, 3)    0           ['input_1[0][0]']                \n",
            "                                                                                                  \n",
            " conv1_conv (Conv2D)            (None, 25, 25, 64)   9472        ['conv1_pad[0][0]']              \n",
            "                                                                                                  \n",
            " conv1_bn (BatchNormalization)  (None, 25, 25, 64)   256         ['conv1_conv[0][0]']             \n",
            "                                                                                                  \n",
            " conv1_relu (Activation)        (None, 25, 25, 64)   0           ['conv1_bn[0][0]']               \n",
            "                                                                                                  \n",
            " pool1_pad (ZeroPadding2D)      (None, 27, 27, 64)   0           ['conv1_relu[0][0]']             \n",
            "                                                                                                  \n",
            " pool1_pool (MaxPooling2D)      (None, 13, 13, 64)   0           ['pool1_pad[0][0]']              \n",
            "                                                                                                  \n",
            " conv2_block1_1_conv (Conv2D)   (None, 13, 13, 64)   4160        ['pool1_pool[0][0]']             \n",
            "                                                                                                  \n",
            " conv2_block1_1_bn (BatchNormal  (None, 13, 13, 64)  256         ['conv2_block1_1_conv[0][0]']    \n",
            " ization)                                                                                         \n",
            "                                                                                                  \n",
            " conv2_block1_1_relu (Activatio  (None, 13, 13, 64)  0           ['conv2_block1_1_bn[0][0]']      \n",
            " n)                                                                                               \n",
            "                                                                                                  \n",
            " conv2_block1_2_conv (Conv2D)   (None, 13, 13, 64)   36928       ['conv2_block1_1_relu[0][0]']    \n",
            "                                                                                                  \n",
            " conv2_block1_2_bn (BatchNormal  (None, 13, 13, 64)  256         ['conv2_block1_2_conv[0][0]']    \n",
            " ization)                                                                                         \n",
            "                                                                                                  \n",
            " conv2_block1_2_relu (Activatio  (None, 13, 13, 64)  0           ['conv2_block1_2_bn[0][0]']      \n",
            " n)                                                                                               \n",
            "                                                                                                  \n",
            " conv2_block1_0_conv (Conv2D)   (None, 13, 13, 256)  16640       ['pool1_pool[0][0]']             \n",
            "                                                                                                  \n",
            " conv2_block1_3_conv (Conv2D)   (None, 13, 13, 256)  16640       ['conv2_block1_2_relu[0][0]']    \n",
            "                                                                                                  \n",
            " conv2_block1_0_bn (BatchNormal  (None, 13, 13, 256)  1024       ['conv2_block1_0_conv[0][0]']    \n",
            " ization)                                                                                         \n",
            "                                                                                                  \n",
            " conv2_block1_3_bn (BatchNormal  (None, 13, 13, 256)  1024       ['conv2_block1_3_conv[0][0]']    \n",
            " ization)                                                                                         \n",
            "                                                                                                  \n",
            " conv2_block1_add (Add)         (None, 13, 13, 256)  0           ['conv2_block1_0_bn[0][0]',      \n",
            "                                                                  'conv2_block1_3_bn[0][0]']      \n",
            "                                                                                                  \n",
            " conv2_block1_out (Activation)  (None, 13, 13, 256)  0           ['conv2_block1_add[0][0]']       \n",
            "                                                                                                  \n",
            " conv2_block2_1_conv (Conv2D)   (None, 13, 13, 64)   16448       ['conv2_block1_out[0][0]']       \n",
            "                                                                                                  \n",
            " conv2_block2_1_bn (BatchNormal  (None, 13, 13, 64)  256         ['conv2_block2_1_conv[0][0]']    \n",
            " ization)                                                                                         \n",
            "                                                                                                  \n",
            " conv2_block2_1_relu (Activatio  (None, 13, 13, 64)  0           ['conv2_block2_1_bn[0][0]']      \n",
            " n)                                                                                               \n",
            "                                                                                                  \n",
            " conv2_block2_2_conv (Conv2D)   (None, 13, 13, 64)   36928       ['conv2_block2_1_relu[0][0]']    \n",
            "                                                                                                  \n",
            " conv2_block2_2_bn (BatchNormal  (None, 13, 13, 64)  256         ['conv2_block2_2_conv[0][0]']    \n",
            " ization)                                                                                         \n",
            "                                                                                                  \n",
            " conv2_block2_2_relu (Activatio  (None, 13, 13, 64)  0           ['conv2_block2_2_bn[0][0]']      \n",
            " n)                                                                                               \n",
            "                                                                                                  \n",
            " conv2_block2_3_conv (Conv2D)   (None, 13, 13, 256)  16640       ['conv2_block2_2_relu[0][0]']    \n",
            "                                                                                                  \n",
            " conv2_block2_3_bn (BatchNormal  (None, 13, 13, 256)  1024       ['conv2_block2_3_conv[0][0]']    \n",
            " ization)                                                                                         \n",
            "                                                                                                  \n",
            " conv2_block2_add (Add)         (None, 13, 13, 256)  0           ['conv2_block1_out[0][0]',       \n",
            "                                                                  'conv2_block2_3_bn[0][0]']      \n",
            "                                                                                                  \n",
            " conv2_block2_out (Activation)  (None, 13, 13, 256)  0           ['conv2_block2_add[0][0]']       \n",
            "                                                                                                  \n",
            " conv2_block3_1_conv (Conv2D)   (None, 13, 13, 64)   16448       ['conv2_block2_out[0][0]']       \n",
            "                                                                                                  \n",
            " conv2_block3_1_bn (BatchNormal  (None, 13, 13, 64)  256         ['conv2_block3_1_conv[0][0]']    \n",
            " ization)                                                                                         \n",
            "                                                                                                  \n",
            " conv2_block3_1_relu (Activatio  (None, 13, 13, 64)  0           ['conv2_block3_1_bn[0][0]']      \n",
            " n)                                                                                               \n",
            "                                                                                                  \n",
            " conv2_block3_2_conv (Conv2D)   (None, 13, 13, 64)   36928       ['conv2_block3_1_relu[0][0]']    \n",
            "                                                                                                  \n",
            " conv2_block3_2_bn (BatchNormal  (None, 13, 13, 64)  256         ['conv2_block3_2_conv[0][0]']    \n",
            " ization)                                                                                         \n",
            "                                                                                                  \n",
            " conv2_block3_2_relu (Activatio  (None, 13, 13, 64)  0           ['conv2_block3_2_bn[0][0]']      \n",
            " n)                                                                                               \n",
            "                                                                                                  \n",
            " conv2_block3_3_conv (Conv2D)   (None, 13, 13, 256)  16640       ['conv2_block3_2_relu[0][0]']    \n",
            "                                                                                                  \n",
            " conv2_block3_3_bn (BatchNormal  (None, 13, 13, 256)  1024       ['conv2_block3_3_conv[0][0]']    \n",
            " ization)                                                                                         \n",
            "                                                                                                  \n",
            " conv2_block3_add (Add)         (None, 13, 13, 256)  0           ['conv2_block2_out[0][0]',       \n",
            "                                                                  'conv2_block3_3_bn[0][0]']      \n",
            "                                                                                                  \n",
            " conv2_block3_out (Activation)  (None, 13, 13, 256)  0           ['conv2_block3_add[0][0]']       \n",
            "                                                                                                  \n",
            " conv3_block1_1_conv (Conv2D)   (None, 7, 7, 128)    32896       ['conv2_block3_out[0][0]']       \n",
            "                                                                                                  \n",
            " conv3_block1_1_bn (BatchNormal  (None, 7, 7, 128)   512         ['conv3_block1_1_conv[0][0]']    \n",
            " ization)                                                                                         \n",
            "                                                                                                  \n",
            " conv3_block1_1_relu (Activatio  (None, 7, 7, 128)   0           ['conv3_block1_1_bn[0][0]']      \n",
            " n)                                                                                               \n",
            "                                                                                                  \n",
            " conv3_block1_2_conv (Conv2D)   (None, 7, 7, 128)    147584      ['conv3_block1_1_relu[0][0]']    \n",
            "                                                                                                  \n",
            " conv3_block1_2_bn (BatchNormal  (None, 7, 7, 128)   512         ['conv3_block1_2_conv[0][0]']    \n",
            " ization)                                                                                         \n",
            "                                                                                                  \n",
            " conv3_block1_2_relu (Activatio  (None, 7, 7, 128)   0           ['conv3_block1_2_bn[0][0]']      \n",
            " n)                                                                                               \n",
            "                                                                                                  \n",
            " conv3_block1_0_conv (Conv2D)   (None, 7, 7, 512)    131584      ['conv2_block3_out[0][0]']       \n",
            "                                                                                                  \n",
            " conv3_block1_3_conv (Conv2D)   (None, 7, 7, 512)    66048       ['conv3_block1_2_relu[0][0]']    \n",
            "                                                                                                  \n",
            " conv3_block1_0_bn (BatchNormal  (None, 7, 7, 512)   2048        ['conv3_block1_0_conv[0][0]']    \n",
            " ization)                                                                                         \n",
            "                                                                                                  \n",
            " conv3_block1_3_bn (BatchNormal  (None, 7, 7, 512)   2048        ['conv3_block1_3_conv[0][0]']    \n",
            " ization)                                                                                         \n",
            "                                                                                                  \n",
            " conv3_block1_add (Add)         (None, 7, 7, 512)    0           ['conv3_block1_0_bn[0][0]',      \n",
            "                                                                  'conv3_block1_3_bn[0][0]']      \n",
            "                                                                                                  \n",
            " conv3_block1_out (Activation)  (None, 7, 7, 512)    0           ['conv3_block1_add[0][0]']       \n",
            "                                                                                                  \n",
            " conv3_block2_1_conv (Conv2D)   (None, 7, 7, 128)    65664       ['conv3_block1_out[0][0]']       \n",
            "                                                                                                  \n",
            " conv3_block2_1_bn (BatchNormal  (None, 7, 7, 128)   512         ['conv3_block2_1_conv[0][0]']    \n",
            " ization)                                                                                         \n",
            "                                                                                                  \n",
            " conv3_block2_1_relu (Activatio  (None, 7, 7, 128)   0           ['conv3_block2_1_bn[0][0]']      \n",
            " n)                                                                                               \n",
            "                                                                                                  \n",
            " conv3_block2_2_conv (Conv2D)   (None, 7, 7, 128)    147584      ['conv3_block2_1_relu[0][0]']    \n",
            "                                                                                                  \n",
            " conv3_block2_2_bn (BatchNormal  (None, 7, 7, 128)   512         ['conv3_block2_2_conv[0][0]']    \n",
            " ization)                                                                                         \n",
            "                                                                                                  \n",
            " conv3_block2_2_relu (Activatio  (None, 7, 7, 128)   0           ['conv3_block2_2_bn[0][0]']      \n",
            " n)                                                                                               \n",
            "                                                                                                  \n",
            " conv3_block2_3_conv (Conv2D)   (None, 7, 7, 512)    66048       ['conv3_block2_2_relu[0][0]']    \n",
            "                                                                                                  \n",
            " conv3_block2_3_bn (BatchNormal  (None, 7, 7, 512)   2048        ['conv3_block2_3_conv[0][0]']    \n",
            " ization)                                                                                         \n",
            "                                                                                                  \n",
            " conv3_block2_add (Add)         (None, 7, 7, 512)    0           ['conv3_block1_out[0][0]',       \n",
            "                                                                  'conv3_block2_3_bn[0][0]']      \n",
            "                                                                                                  \n",
            " conv3_block2_out (Activation)  (None, 7, 7, 512)    0           ['conv3_block2_add[0][0]']       \n",
            "                                                                                                  \n",
            " conv3_block3_1_conv (Conv2D)   (None, 7, 7, 128)    65664       ['conv3_block2_out[0][0]']       \n",
            "                                                                                                  \n",
            " conv3_block3_1_bn (BatchNormal  (None, 7, 7, 128)   512         ['conv3_block3_1_conv[0][0]']    \n",
            " ization)                                                                                         \n",
            "                                                                                                  \n",
            " conv3_block3_1_relu (Activatio  (None, 7, 7, 128)   0           ['conv3_block3_1_bn[0][0]']      \n",
            " n)                                                                                               \n",
            "                                                                                                  \n",
            " conv3_block3_2_conv (Conv2D)   (None, 7, 7, 128)    147584      ['conv3_block3_1_relu[0][0]']    \n",
            "                                                                                                  \n",
            " conv3_block3_2_bn (BatchNormal  (None, 7, 7, 128)   512         ['conv3_block3_2_conv[0][0]']    \n",
            " ization)                                                                                         \n",
            "                                                                                                  \n",
            " conv3_block3_2_relu (Activatio  (None, 7, 7, 128)   0           ['conv3_block3_2_bn[0][0]']      \n",
            " n)                                                                                               \n",
            "                                                                                                  \n",
            " conv3_block3_3_conv (Conv2D)   (None, 7, 7, 512)    66048       ['conv3_block3_2_relu[0][0]']    \n",
            "                                                                                                  \n",
            " conv3_block3_3_bn (BatchNormal  (None, 7, 7, 512)   2048        ['conv3_block3_3_conv[0][0]']    \n",
            " ization)                                                                                         \n",
            "                                                                                                  \n",
            " conv3_block3_add (Add)         (None, 7, 7, 512)    0           ['conv3_block2_out[0][0]',       \n",
            "                                                                  'conv3_block3_3_bn[0][0]']      \n",
            "                                                                                                  \n",
            " conv3_block3_out (Activation)  (None, 7, 7, 512)    0           ['conv3_block3_add[0][0]']       \n",
            "                                                                                                  \n",
            " conv3_block4_1_conv (Conv2D)   (None, 7, 7, 128)    65664       ['conv3_block3_out[0][0]']       \n",
            "                                                                                                  \n",
            " conv3_block4_1_bn (BatchNormal  (None, 7, 7, 128)   512         ['conv3_block4_1_conv[0][0]']    \n",
            " ization)                                                                                         \n",
            "                                                                                                  \n",
            " conv3_block4_1_relu (Activatio  (None, 7, 7, 128)   0           ['conv3_block4_1_bn[0][0]']      \n",
            " n)                                                                                               \n",
            "                                                                                                  \n",
            " conv3_block4_2_conv (Conv2D)   (None, 7, 7, 128)    147584      ['conv3_block4_1_relu[0][0]']    \n",
            "                                                                                                  \n",
            " conv3_block4_2_bn (BatchNormal  (None, 7, 7, 128)   512         ['conv3_block4_2_conv[0][0]']    \n",
            " ization)                                                                                         \n",
            "                                                                                                  \n",
            " conv3_block4_2_relu (Activatio  (None, 7, 7, 128)   0           ['conv3_block4_2_bn[0][0]']      \n",
            " n)                                                                                               \n",
            "                                                                                                  \n",
            " conv3_block4_3_conv (Conv2D)   (None, 7, 7, 512)    66048       ['conv3_block4_2_relu[0][0]']    \n",
            "                                                                                                  \n",
            " conv3_block4_3_bn (BatchNormal  (None, 7, 7, 512)   2048        ['conv3_block4_3_conv[0][0]']    \n",
            " ization)                                                                                         \n",
            "                                                                                                  \n",
            " conv3_block4_add (Add)         (None, 7, 7, 512)    0           ['conv3_block3_out[0][0]',       \n",
            "                                                                  'conv3_block4_3_bn[0][0]']      \n",
            "                                                                                                  \n",
            " conv3_block4_out (Activation)  (None, 7, 7, 512)    0           ['conv3_block4_add[0][0]']       \n",
            "                                                                                                  \n",
            " conv4_block1_1_conv (Conv2D)   (None, 4, 4, 256)    131328      ['conv3_block4_out[0][0]']       \n",
            "                                                                                                  \n",
            " conv4_block1_1_bn (BatchNormal  (None, 4, 4, 256)   1024        ['conv4_block1_1_conv[0][0]']    \n",
            " ization)                                                                                         \n",
            "                                                                                                  \n",
            " conv4_block1_1_relu (Activatio  (None, 4, 4, 256)   0           ['conv4_block1_1_bn[0][0]']      \n",
            " n)                                                                                               \n",
            "                                                                                                  \n",
            " conv4_block1_2_conv (Conv2D)   (None, 4, 4, 256)    590080      ['conv4_block1_1_relu[0][0]']    \n",
            "                                                                                                  \n",
            " conv4_block1_2_bn (BatchNormal  (None, 4, 4, 256)   1024        ['conv4_block1_2_conv[0][0]']    \n",
            " ization)                                                                                         \n",
            "                                                                                                  \n",
            " conv4_block1_2_relu (Activatio  (None, 4, 4, 256)   0           ['conv4_block1_2_bn[0][0]']      \n",
            " n)                                                                                               \n",
            "                                                                                                  \n",
            " conv4_block1_0_conv (Conv2D)   (None, 4, 4, 1024)   525312      ['conv3_block4_out[0][0]']       \n",
            "                                                                                                  \n",
            " conv4_block1_3_conv (Conv2D)   (None, 4, 4, 1024)   263168      ['conv4_block1_2_relu[0][0]']    \n",
            "                                                                                                  \n",
            " conv4_block1_0_bn (BatchNormal  (None, 4, 4, 1024)  4096        ['conv4_block1_0_conv[0][0]']    \n",
            " ization)                                                                                         \n",
            "                                                                                                  \n",
            " conv4_block1_3_bn (BatchNormal  (None, 4, 4, 1024)  4096        ['conv4_block1_3_conv[0][0]']    \n",
            " ization)                                                                                         \n",
            "                                                                                                  \n",
            " conv4_block1_add (Add)         (None, 4, 4, 1024)   0           ['conv4_block1_0_bn[0][0]',      \n",
            "                                                                  'conv4_block1_3_bn[0][0]']      \n",
            "                                                                                                  \n",
            " conv4_block1_out (Activation)  (None, 4, 4, 1024)   0           ['conv4_block1_add[0][0]']       \n",
            "                                                                                                  \n",
            " conv4_block2_1_conv (Conv2D)   (None, 4, 4, 256)    262400      ['conv4_block1_out[0][0]']       \n",
            "                                                                                                  \n",
            " conv4_block2_1_bn (BatchNormal  (None, 4, 4, 256)   1024        ['conv4_block2_1_conv[0][0]']    \n",
            " ization)                                                                                         \n",
            "                                                                                                  \n",
            " conv4_block2_1_relu (Activatio  (None, 4, 4, 256)   0           ['conv4_block2_1_bn[0][0]']      \n",
            " n)                                                                                               \n",
            "                                                                                                  \n",
            " conv4_block2_2_conv (Conv2D)   (None, 4, 4, 256)    590080      ['conv4_block2_1_relu[0][0]']    \n",
            "                                                                                                  \n",
            " conv4_block2_2_bn (BatchNormal  (None, 4, 4, 256)   1024        ['conv4_block2_2_conv[0][0]']    \n",
            " ization)                                                                                         \n",
            "                                                                                                  \n",
            " conv4_block2_2_relu (Activatio  (None, 4, 4, 256)   0           ['conv4_block2_2_bn[0][0]']      \n",
            " n)                                                                                               \n",
            "                                                                                                  \n",
            " conv4_block2_3_conv (Conv2D)   (None, 4, 4, 1024)   263168      ['conv4_block2_2_relu[0][0]']    \n",
            "                                                                                                  \n",
            " conv4_block2_3_bn (BatchNormal  (None, 4, 4, 1024)  4096        ['conv4_block2_3_conv[0][0]']    \n",
            " ization)                                                                                         \n",
            "                                                                                                  \n",
            " conv4_block2_add (Add)         (None, 4, 4, 1024)   0           ['conv4_block1_out[0][0]',       \n",
            "                                                                  'conv4_block2_3_bn[0][0]']      \n",
            "                                                                                                  \n",
            " conv4_block2_out (Activation)  (None, 4, 4, 1024)   0           ['conv4_block2_add[0][0]']       \n",
            "                                                                                                  \n",
            " conv4_block3_1_conv (Conv2D)   (None, 4, 4, 256)    262400      ['conv4_block2_out[0][0]']       \n",
            "                                                                                                  \n",
            " conv4_block3_1_bn (BatchNormal  (None, 4, 4, 256)   1024        ['conv4_block3_1_conv[0][0]']    \n",
            " ization)                                                                                         \n",
            "                                                                                                  \n",
            " conv4_block3_1_relu (Activatio  (None, 4, 4, 256)   0           ['conv4_block3_1_bn[0][0]']      \n",
            " n)                                                                                               \n",
            "                                                                                                  \n",
            " conv4_block3_2_conv (Conv2D)   (None, 4, 4, 256)    590080      ['conv4_block3_1_relu[0][0]']    \n",
            "                                                                                                  \n",
            " conv4_block3_2_bn (BatchNormal  (None, 4, 4, 256)   1024        ['conv4_block3_2_conv[0][0]']    \n",
            " ization)                                                                                         \n",
            "                                                                                                  \n",
            " conv4_block3_2_relu (Activatio  (None, 4, 4, 256)   0           ['conv4_block3_2_bn[0][0]']      \n",
            " n)                                                                                               \n",
            "                                                                                                  \n",
            " conv4_block3_3_conv (Conv2D)   (None, 4, 4, 1024)   263168      ['conv4_block3_2_relu[0][0]']    \n",
            "                                                                                                  \n",
            " conv4_block3_3_bn (BatchNormal  (None, 4, 4, 1024)  4096        ['conv4_block3_3_conv[0][0]']    \n",
            " ization)                                                                                         \n",
            "                                                                                                  \n",
            " conv4_block3_add (Add)         (None, 4, 4, 1024)   0           ['conv4_block2_out[0][0]',       \n",
            "                                                                  'conv4_block3_3_bn[0][0]']      \n",
            "                                                                                                  \n",
            " conv4_block3_out (Activation)  (None, 4, 4, 1024)   0           ['conv4_block3_add[0][0]']       \n",
            "                                                                                                  \n",
            " conv4_block4_1_conv (Conv2D)   (None, 4, 4, 256)    262400      ['conv4_block3_out[0][0]']       \n",
            "                                                                                                  \n",
            " conv4_block4_1_bn (BatchNormal  (None, 4, 4, 256)   1024        ['conv4_block4_1_conv[0][0]']    \n",
            " ization)                                                                                         \n",
            "                                                                                                  \n",
            " conv4_block4_1_relu (Activatio  (None, 4, 4, 256)   0           ['conv4_block4_1_bn[0][0]']      \n",
            " n)                                                                                               \n",
            "                                                                                                  \n",
            " conv4_block4_2_conv (Conv2D)   (None, 4, 4, 256)    590080      ['conv4_block4_1_relu[0][0]']    \n",
            "                                                                                                  \n",
            " conv4_block4_2_bn (BatchNormal  (None, 4, 4, 256)   1024        ['conv4_block4_2_conv[0][0]']    \n",
            " ization)                                                                                         \n",
            "                                                                                                  \n",
            " conv4_block4_2_relu (Activatio  (None, 4, 4, 256)   0           ['conv4_block4_2_bn[0][0]']      \n",
            " n)                                                                                               \n",
            "                                                                                                  \n",
            " conv4_block4_3_conv (Conv2D)   (None, 4, 4, 1024)   263168      ['conv4_block4_2_relu[0][0]']    \n",
            "                                                                                                  \n",
            " conv4_block4_3_bn (BatchNormal  (None, 4, 4, 1024)  4096        ['conv4_block4_3_conv[0][0]']    \n",
            " ization)                                                                                         \n",
            "                                                                                                  \n",
            " conv4_block4_add (Add)         (None, 4, 4, 1024)   0           ['conv4_block3_out[0][0]',       \n",
            "                                                                  'conv4_block4_3_bn[0][0]']      \n",
            "                                                                                                  \n",
            " conv4_block4_out (Activation)  (None, 4, 4, 1024)   0           ['conv4_block4_add[0][0]']       \n",
            "                                                                                                  \n",
            " conv4_block5_1_conv (Conv2D)   (None, 4, 4, 256)    262400      ['conv4_block4_out[0][0]']       \n",
            "                                                                                                  \n",
            " conv4_block5_1_bn (BatchNormal  (None, 4, 4, 256)   1024        ['conv4_block5_1_conv[0][0]']    \n",
            " ization)                                                                                         \n",
            "                                                                                                  \n",
            " conv4_block5_1_relu (Activatio  (None, 4, 4, 256)   0           ['conv4_block5_1_bn[0][0]']      \n",
            " n)                                                                                               \n",
            "                                                                                                  \n",
            " conv4_block5_2_conv (Conv2D)   (None, 4, 4, 256)    590080      ['conv4_block5_1_relu[0][0]']    \n",
            "                                                                                                  \n",
            " conv4_block5_2_bn (BatchNormal  (None, 4, 4, 256)   1024        ['conv4_block5_2_conv[0][0]']    \n",
            " ization)                                                                                         \n",
            "                                                                                                  \n",
            " conv4_block5_2_relu (Activatio  (None, 4, 4, 256)   0           ['conv4_block5_2_bn[0][0]']      \n",
            " n)                                                                                               \n",
            "                                                                                                  \n",
            " conv4_block5_3_conv (Conv2D)   (None, 4, 4, 1024)   263168      ['conv4_block5_2_relu[0][0]']    \n",
            "                                                                                                  \n",
            " conv4_block5_3_bn (BatchNormal  (None, 4, 4, 1024)  4096        ['conv4_block5_3_conv[0][0]']    \n",
            " ization)                                                                                         \n",
            "                                                                                                  \n",
            " conv4_block5_add (Add)         (None, 4, 4, 1024)   0           ['conv4_block4_out[0][0]',       \n",
            "                                                                  'conv4_block5_3_bn[0][0]']      \n",
            "                                                                                                  \n",
            " conv4_block5_out (Activation)  (None, 4, 4, 1024)   0           ['conv4_block5_add[0][0]']       \n",
            "                                                                                                  \n",
            " conv4_block6_1_conv (Conv2D)   (None, 4, 4, 256)    262400      ['conv4_block5_out[0][0]']       \n",
            "                                                                                                  \n",
            " conv4_block6_1_bn (BatchNormal  (None, 4, 4, 256)   1024        ['conv4_block6_1_conv[0][0]']    \n",
            " ization)                                                                                         \n",
            "                                                                                                  \n",
            " conv4_block6_1_relu (Activatio  (None, 4, 4, 256)   0           ['conv4_block6_1_bn[0][0]']      \n",
            " n)                                                                                               \n",
            "                                                                                                  \n",
            " conv4_block6_2_conv (Conv2D)   (None, 4, 4, 256)    590080      ['conv4_block6_1_relu[0][0]']    \n",
            "                                                                                                  \n",
            " conv4_block6_2_bn (BatchNormal  (None, 4, 4, 256)   1024        ['conv4_block6_2_conv[0][0]']    \n",
            " ization)                                                                                         \n",
            "                                                                                                  \n",
            " conv4_block6_2_relu (Activatio  (None, 4, 4, 256)   0           ['conv4_block6_2_bn[0][0]']      \n",
            " n)                                                                                               \n",
            "                                                                                                  \n",
            " conv4_block6_3_conv (Conv2D)   (None, 4, 4, 1024)   263168      ['conv4_block6_2_relu[0][0]']    \n",
            "                                                                                                  \n",
            " conv4_block6_3_bn (BatchNormal  (None, 4, 4, 1024)  4096        ['conv4_block6_3_conv[0][0]']    \n",
            " ization)                                                                                         \n",
            "                                                                                                  \n",
            " conv4_block6_add (Add)         (None, 4, 4, 1024)   0           ['conv4_block5_out[0][0]',       \n",
            "                                                                  'conv4_block6_3_bn[0][0]']      \n",
            "                                                                                                  \n",
            " conv4_block6_out (Activation)  (None, 4, 4, 1024)   0           ['conv4_block6_add[0][0]']       \n",
            "                                                                                                  \n",
            " conv5_block1_1_conv (Conv2D)   (None, 2, 2, 512)    524800      ['conv4_block6_out[0][0]']       \n",
            "                                                                                                  \n",
            " conv5_block1_1_bn (BatchNormal  (None, 2, 2, 512)   2048        ['conv5_block1_1_conv[0][0]']    \n",
            " ization)                                                                                         \n",
            "                                                                                                  \n",
            " conv5_block1_1_relu (Activatio  (None, 2, 2, 512)   0           ['conv5_block1_1_bn[0][0]']      \n",
            " n)                                                                                               \n",
            "                                                                                                  \n",
            " conv5_block1_2_conv (Conv2D)   (None, 2, 2, 512)    2359808     ['conv5_block1_1_relu[0][0]']    \n",
            "                                                                                                  \n",
            " conv5_block1_2_bn (BatchNormal  (None, 2, 2, 512)   2048        ['conv5_block1_2_conv[0][0]']    \n",
            " ization)                                                                                         \n",
            "                                                                                                  \n",
            " conv5_block1_2_relu (Activatio  (None, 2, 2, 512)   0           ['conv5_block1_2_bn[0][0]']      \n",
            " n)                                                                                               \n",
            "                                                                                                  \n",
            " conv5_block1_0_conv (Conv2D)   (None, 2, 2, 2048)   2099200     ['conv4_block6_out[0][0]']       \n",
            "                                                                                                  \n",
            " conv5_block1_3_conv (Conv2D)   (None, 2, 2, 2048)   1050624     ['conv5_block1_2_relu[0][0]']    \n",
            "                                                                                                  \n",
            " conv5_block1_0_bn (BatchNormal  (None, 2, 2, 2048)  8192        ['conv5_block1_0_conv[0][0]']    \n",
            " ization)                                                                                         \n",
            "                                                                                                  \n",
            " conv5_block1_3_bn (BatchNormal  (None, 2, 2, 2048)  8192        ['conv5_block1_3_conv[0][0]']    \n",
            " ization)                                                                                         \n",
            "                                                                                                  \n",
            " conv5_block1_add (Add)         (None, 2, 2, 2048)   0           ['conv5_block1_0_bn[0][0]',      \n",
            "                                                                  'conv5_block1_3_bn[0][0]']      \n",
            "                                                                                                  \n",
            " conv5_block1_out (Activation)  (None, 2, 2, 2048)   0           ['conv5_block1_add[0][0]']       \n",
            "                                                                                                  \n",
            " conv5_block2_1_conv (Conv2D)   (None, 2, 2, 512)    1049088     ['conv5_block1_out[0][0]']       \n",
            "                                                                                                  \n",
            " conv5_block2_1_bn (BatchNormal  (None, 2, 2, 512)   2048        ['conv5_block2_1_conv[0][0]']    \n",
            " ization)                                                                                         \n",
            "                                                                                                  \n",
            " conv5_block2_1_relu (Activatio  (None, 2, 2, 512)   0           ['conv5_block2_1_bn[0][0]']      \n",
            " n)                                                                                               \n",
            "                                                                                                  \n",
            " conv5_block2_2_conv (Conv2D)   (None, 2, 2, 512)    2359808     ['conv5_block2_1_relu[0][0]']    \n",
            "                                                                                                  \n",
            " conv5_block2_2_bn (BatchNormal  (None, 2, 2, 512)   2048        ['conv5_block2_2_conv[0][0]']    \n",
            " ization)                                                                                         \n",
            "                                                                                                  \n",
            " conv5_block2_2_relu (Activatio  (None, 2, 2, 512)   0           ['conv5_block2_2_bn[0][0]']      \n",
            " n)                                                                                               \n",
            "                                                                                                  \n",
            " conv5_block2_3_conv (Conv2D)   (None, 2, 2, 2048)   1050624     ['conv5_block2_2_relu[0][0]']    \n",
            "                                                                                                  \n",
            " conv5_block2_3_bn (BatchNormal  (None, 2, 2, 2048)  8192        ['conv5_block2_3_conv[0][0]']    \n",
            " ization)                                                                                         \n",
            "                                                                                                  \n",
            " conv5_block2_add (Add)         (None, 2, 2, 2048)   0           ['conv5_block1_out[0][0]',       \n",
            "                                                                  'conv5_block2_3_bn[0][0]']      \n",
            "                                                                                                  \n",
            " conv5_block2_out (Activation)  (None, 2, 2, 2048)   0           ['conv5_block2_add[0][0]']       \n",
            "                                                                                                  \n",
            " conv5_block3_1_conv (Conv2D)   (None, 2, 2, 512)    1049088     ['conv5_block2_out[0][0]']       \n",
            "                                                                                                  \n",
            " conv5_block3_1_bn (BatchNormal  (None, 2, 2, 512)   2048        ['conv5_block3_1_conv[0][0]']    \n",
            " ization)                                                                                         \n",
            "                                                                                                  \n",
            " conv5_block3_1_relu (Activatio  (None, 2, 2, 512)   0           ['conv5_block3_1_bn[0][0]']      \n",
            " n)                                                                                               \n",
            "                                                                                                  \n",
            " conv5_block3_2_conv (Conv2D)   (None, 2, 2, 512)    2359808     ['conv5_block3_1_relu[0][0]']    \n",
            "                                                                                                  \n",
            " conv5_block3_2_bn (BatchNormal  (None, 2, 2, 512)   2048        ['conv5_block3_2_conv[0][0]']    \n",
            " ization)                                                                                         \n",
            "                                                                                                  \n",
            " conv5_block3_2_relu (Activatio  (None, 2, 2, 512)   0           ['conv5_block3_2_bn[0][0]']      \n",
            " n)                                                                                               \n",
            "                                                                                                  \n",
            " conv5_block3_3_conv (Conv2D)   (None, 2, 2, 2048)   1050624     ['conv5_block3_2_relu[0][0]']    \n",
            "                                                                                                  \n",
            " conv5_block3_3_bn (BatchNormal  (None, 2, 2, 2048)  8192        ['conv5_block3_3_conv[0][0]']    \n",
            " ization)                                                                                         \n",
            "                                                                                                  \n",
            " conv5_block3_add (Add)         (None, 2, 2, 2048)   0           ['conv5_block2_out[0][0]',       \n",
            "                                                                  'conv5_block3_3_bn[0][0]']      \n",
            "                                                                                                  \n",
            " conv5_block3_out (Activation)  (None, 2, 2, 2048)   0           ['conv5_block3_add[0][0]']       \n",
            "                                                                                                  \n",
            " global_average_pooling2d (Glob  (None, 2048)        0           ['conv5_block3_out[0][0]']       \n",
            " alAveragePooling2D)                                                                              \n",
            "                                                                                                  \n",
            " dense_2 (Dense)                (None, 1024)         2098176     ['global_average_pooling2d[0][0]'\n",
            "                                                                 ]                                \n",
            "                                                                                                  \n",
            " dense_3 (Dense)                (None, 2)            2050        ['dense_2[0][0]']                \n",
            "                                                                                                  \n",
            "==================================================================================================\n",
            "Total params: 25,687,938\n",
            "Trainable params: 2,100,226\n",
            "Non-trainable params: 23,587,712\n",
            "__________________________________________________________________________________________________\n"
          ]
        }
      ]
    },
    {
      "cell_type": "code",
      "source": [
        "# Callback\n",
        "es = EarlyStopping(monitor='val_accuracy', patience=5, verbose=1, mode='max')\n",
        "mc = ModelCheckpoint('best_resnet50_model.h5', monitor='val_accuracy', mode='max', save_best_only=True, verbose=1)\n"
      ],
      "metadata": {
        "id": "VROiHiH4c3fr"
      },
      "execution_count": 27,
      "outputs": []
    },
    {
      "cell_type": "code",
      "source": [
        "# Entraîner le modèle avec les callbacks\n",
        "history_transfer = model_transfer.fit(\n",
        "    X_train, y_train,\n",
        "    epochs=50,\n",
        "    batch_size=32,\n",
        "    validation_split=0.12,\n",
        "    callbacks=[es, mc]\n",
        ")\n",
        "\n",
        "# Charger le meilleur modèle sauvegardé\n",
        "best_model = load_model('best_resnet50_model.h5')\n"
      ],
      "metadata": {
        "colab": {
          "base_uri": "https://localhost:8080/"
        },
        "id": "XLbbS3s2X9vR",
        "outputId": "5bf0d978-aa05-4a22-ec32-9c1a5609627b"
      },
      "execution_count": 28,
      "outputs": [
        {
          "output_type": "stream",
          "name": "stdout",
          "text": [
            "Epoch 1/50\n",
            "242/242 [==============================] - ETA: 0s - loss: 0.7107 - accuracy: 0.5501\n",
            "Epoch 1: val_accuracy improved from -inf to 0.51231, saving model to best_resnet50_model.h5\n",
            "242/242 [==============================] - 118s 471ms/step - loss: 0.7107 - accuracy: 0.5501 - val_loss: 0.7006 - val_accuracy: 0.5123\n",
            "Epoch 2/50\n",
            "242/242 [==============================] - ETA: 0s - loss: 0.6813 - accuracy: 0.5730\n",
            "Epoch 2: val_accuracy improved from 0.51231 to 0.60511, saving model to best_resnet50_model.h5\n",
            "242/242 [==============================] - 109s 452ms/step - loss: 0.6813 - accuracy: 0.5730 - val_loss: 0.6668 - val_accuracy: 0.6051\n",
            "Epoch 3/50\n",
            "242/242 [==============================] - ETA: 0s - loss: 0.6700 - accuracy: 0.5789\n",
            "Epoch 3: val_accuracy did not improve from 0.60511\n",
            "242/242 [==============================] - 99s 410ms/step - loss: 0.6700 - accuracy: 0.5789 - val_loss: 0.7536 - val_accuracy: 0.5038\n",
            "Epoch 4/50\n",
            "242/242 [==============================] - ETA: 0s - loss: 0.6695 - accuracy: 0.5857\n",
            "Epoch 4: val_accuracy did not improve from 0.60511\n",
            "242/242 [==============================] - 110s 455ms/step - loss: 0.6695 - accuracy: 0.5857 - val_loss: 0.6684 - val_accuracy: 0.5890\n",
            "Epoch 5/50\n",
            "242/242 [==============================] - ETA: 0s - loss: 0.6696 - accuracy: 0.5824\n",
            "Epoch 5: val_accuracy improved from 0.60511 to 0.60606, saving model to best_resnet50_model.h5\n",
            "242/242 [==============================] - 109s 449ms/step - loss: 0.6696 - accuracy: 0.5824 - val_loss: 0.6628 - val_accuracy: 0.6061\n",
            "Epoch 6/50\n",
            "242/242 [==============================] - ETA: 0s - loss: 0.6599 - accuracy: 0.5997\n",
            "Epoch 6: val_accuracy did not improve from 0.60606\n",
            "242/242 [==============================] - 108s 447ms/step - loss: 0.6599 - accuracy: 0.5997 - val_loss: 0.6609 - val_accuracy: 0.6032\n",
            "Epoch 7/50\n",
            "242/242 [==============================] - ETA: 0s - loss: 0.6649 - accuracy: 0.5935\n",
            "Epoch 7: val_accuracy did not improve from 0.60606\n",
            "242/242 [==============================] - 109s 453ms/step - loss: 0.6649 - accuracy: 0.5935 - val_loss: 0.6705 - val_accuracy: 0.5795\n",
            "Epoch 8/50\n",
            "242/242 [==============================] - ETA: 0s - loss: 0.6604 - accuracy: 0.6047\n",
            "Epoch 8: val_accuracy improved from 0.60606 to 0.60985, saving model to best_resnet50_model.h5\n",
            "242/242 [==============================] - 101s 419ms/step - loss: 0.6604 - accuracy: 0.6047 - val_loss: 0.6624 - val_accuracy: 0.6098\n",
            "Epoch 9/50\n",
            "242/242 [==============================] - ETA: 0s - loss: 0.6587 - accuracy: 0.5988\n",
            "Epoch 9: val_accuracy did not improve from 0.60985\n",
            "242/242 [==============================] - 99s 409ms/step - loss: 0.6587 - accuracy: 0.5988 - val_loss: 0.6809 - val_accuracy: 0.5701\n",
            "Epoch 10/50\n",
            "242/242 [==============================] - ETA: 0s - loss: 0.6614 - accuracy: 0.5905\n",
            "Epoch 10: val_accuracy did not improve from 0.60985\n",
            "242/242 [==============================] - 110s 453ms/step - loss: 0.6614 - accuracy: 0.5905 - val_loss: 0.6598 - val_accuracy: 0.6080\n",
            "Epoch 11/50\n",
            "242/242 [==============================] - ETA: 0s - loss: 0.6593 - accuracy: 0.6016\n",
            "Epoch 11: val_accuracy improved from 0.60985 to 0.61080, saving model to best_resnet50_model.h5\n",
            "242/242 [==============================] - 101s 417ms/step - loss: 0.6593 - accuracy: 0.6016 - val_loss: 0.6600 - val_accuracy: 0.6108\n",
            "Epoch 12/50\n",
            "242/242 [==============================] - ETA: 0s - loss: 0.6555 - accuracy: 0.6078\n",
            "Epoch 12: val_accuracy did not improve from 0.61080\n",
            "242/242 [==============================] - 99s 411ms/step - loss: 0.6555 - accuracy: 0.6078 - val_loss: 0.6577 - val_accuracy: 0.6032\n",
            "Epoch 13/50\n",
            "242/242 [==============================] - ETA: 0s - loss: 0.6577 - accuracy: 0.6055\n",
            "Epoch 13: val_accuracy improved from 0.61080 to 0.62027, saving model to best_resnet50_model.h5\n",
            "242/242 [==============================] - 101s 416ms/step - loss: 0.6577 - accuracy: 0.6055 - val_loss: 0.6536 - val_accuracy: 0.6203\n",
            "Epoch 14/50\n",
            "242/242 [==============================] - ETA: 0s - loss: 0.6538 - accuracy: 0.6131\n",
            "Epoch 14: val_accuracy did not improve from 0.62027\n",
            "242/242 [==============================] - 99s 410ms/step - loss: 0.6538 - accuracy: 0.6131 - val_loss: 0.6563 - val_accuracy: 0.6061\n",
            "Epoch 15/50\n",
            "242/242 [==============================] - ETA: 0s - loss: 0.6554 - accuracy: 0.6083\n",
            "Epoch 15: val_accuracy did not improve from 0.62027\n",
            "242/242 [==============================] - 111s 460ms/step - loss: 0.6554 - accuracy: 0.6083 - val_loss: 0.6709 - val_accuracy: 0.5843\n",
            "Epoch 16/50\n",
            "242/242 [==============================] - ETA: 0s - loss: 0.6485 - accuracy: 0.6194\n",
            "Epoch 16: val_accuracy did not improve from 0.62027\n",
            "242/242 [==============================] - 109s 451ms/step - loss: 0.6485 - accuracy: 0.6194 - val_loss: 0.6525 - val_accuracy: 0.6155\n",
            "Epoch 17/50\n",
            "242/242 [==============================] - ETA: 0s - loss: 0.6503 - accuracy: 0.6196\n",
            "Epoch 17: val_accuracy did not improve from 0.62027\n",
            "242/242 [==============================] - 101s 417ms/step - loss: 0.6503 - accuracy: 0.6196 - val_loss: 0.6530 - val_accuracy: 0.6165\n",
            "Epoch 18/50\n",
            "242/242 [==============================] - ETA: 0s - loss: 0.6517 - accuracy: 0.6094\n",
            "Epoch 18: val_accuracy improved from 0.62027 to 0.63352, saving model to best_resnet50_model.h5\n",
            "242/242 [==============================] - 112s 464ms/step - loss: 0.6517 - accuracy: 0.6094 - val_loss: 0.6498 - val_accuracy: 0.6335\n",
            "Epoch 19/50\n",
            "242/242 [==============================] - ETA: 0s - loss: 0.6563 - accuracy: 0.6083\n",
            "Epoch 19: val_accuracy did not improve from 0.63352\n",
            "242/242 [==============================] - 111s 461ms/step - loss: 0.6563 - accuracy: 0.6083 - val_loss: 0.6759 - val_accuracy: 0.5578\n",
            "Epoch 20/50\n",
            "242/242 [==============================] - ETA: 0s - loss: 0.6521 - accuracy: 0.6112\n",
            "Epoch 20: val_accuracy improved from 0.63352 to 0.63826, saving model to best_resnet50_model.h5\n",
            "242/242 [==============================] - 104s 428ms/step - loss: 0.6521 - accuracy: 0.6112 - val_loss: 0.6493 - val_accuracy: 0.6383\n",
            "Epoch 21/50\n",
            "242/242 [==============================] - ETA: 0s - loss: 0.6513 - accuracy: 0.6185\n",
            "Epoch 21: val_accuracy did not improve from 0.63826\n",
            "242/242 [==============================] - 101s 419ms/step - loss: 0.6513 - accuracy: 0.6185 - val_loss: 0.6511 - val_accuracy: 0.6250\n",
            "Epoch 22/50\n",
            "242/242 [==============================] - ETA: 0s - loss: 0.6473 - accuracy: 0.6194\n",
            "Epoch 22: val_accuracy did not improve from 0.63826\n",
            "242/242 [==============================] - 111s 461ms/step - loss: 0.6473 - accuracy: 0.6194 - val_loss: 0.6808 - val_accuracy: 0.5606\n",
            "Epoch 23/50\n",
            "242/242 [==============================] - ETA: 0s - loss: 0.6470 - accuracy: 0.6249\n",
            "Epoch 23: val_accuracy did not improve from 0.63826\n",
            "242/242 [==============================] - 110s 457ms/step - loss: 0.6470 - accuracy: 0.6249 - val_loss: 0.6603 - val_accuracy: 0.5928\n",
            "Epoch 24/50\n",
            "242/242 [==============================] - ETA: 0s - loss: 0.6461 - accuracy: 0.6171\n",
            "Epoch 24: val_accuracy improved from 0.63826 to 0.64299, saving model to best_resnet50_model.h5\n",
            "242/242 [==============================] - 115s 475ms/step - loss: 0.6461 - accuracy: 0.6171 - val_loss: 0.6446 - val_accuracy: 0.6430\n",
            "Epoch 25/50\n",
            "242/242 [==============================] - ETA: 0s - loss: 0.6442 - accuracy: 0.6241\n",
            "Epoch 25: val_accuracy did not improve from 0.64299\n",
            "242/242 [==============================] - 111s 457ms/step - loss: 0.6442 - accuracy: 0.6241 - val_loss: 0.6523 - val_accuracy: 0.6184\n",
            "Epoch 26/50\n",
            "242/242 [==============================] - ETA: 0s - loss: 0.6516 - accuracy: 0.6148\n",
            "Epoch 26: val_accuracy did not improve from 0.64299\n",
            "242/242 [==============================] - 111s 460ms/step - loss: 0.6516 - accuracy: 0.6148 - val_loss: 0.6745 - val_accuracy: 0.5559\n",
            "Epoch 27/50\n",
            "242/242 [==============================] - ETA: 0s - loss: 0.6469 - accuracy: 0.6209\n",
            "Epoch 27: val_accuracy did not improve from 0.64299\n",
            "242/242 [==============================] - 103s 425ms/step - loss: 0.6469 - accuracy: 0.6209 - val_loss: 0.6771 - val_accuracy: 0.5644\n",
            "Epoch 28/50\n",
            "242/242 [==============================] - ETA: 0s - loss: 0.6450 - accuracy: 0.6216\n",
            "Epoch 28: val_accuracy did not improve from 0.64299\n",
            "242/242 [==============================] - 113s 466ms/step - loss: 0.6450 - accuracy: 0.6216 - val_loss: 0.6417 - val_accuracy: 0.6402\n",
            "Epoch 29/50\n",
            "242/242 [==============================] - ETA: 0s - loss: 0.6483 - accuracy: 0.6163\n",
            "Epoch 29: val_accuracy did not improve from 0.64299\n",
            "242/242 [==============================] - 113s 466ms/step - loss: 0.6483 - accuracy: 0.6163 - val_loss: 0.6709 - val_accuracy: 0.5843\n",
            "Epoch 29: early stopping\n"
          ]
        }
      ]
    },
    {
      "cell_type": "code",
      "source": [
        "# Évaluer le meilleur modèle sur l'ensemble de test\n",
        "test_loss_transfer, test_accuracy_transfer = best_model.evaluate(X_test, y_test)\n",
        "\n",
        "print(f\"Test Loss: {test_loss_transfer}\")\n",
        "print(f\"Test Accuracy: {test_accuracy_transfer}\")"
      ],
      "metadata": {
        "id": "0k3mMivKX-qh",
        "colab": {
          "base_uri": "https://localhost:8080/"
        },
        "outputId": "c08a123c-246e-4f2e-fcad-9b964402d3f4"
      },
      "execution_count": 29,
      "outputs": [
        {
          "output_type": "stream",
          "name": "stdout",
          "text": [
            "38/38 [==============================] - 15s 364ms/step - loss: 0.6468 - accuracy: 0.6217\n",
            "Test Loss: 0.6468273401260376\n",
            "Test Accuracy: 0.621666669845581\n"
          ]
        }
      ]
    },
    {
      "cell_type": "markdown",
      "source": [
        "### 9. Put the best test scores of the three models in a unique table and print it."
      ],
      "metadata": {
        "id": "38GUAVogg5tl"
      }
    },
    {
      "cell_type": "code",
      "source": [
        "# Stockage des meilleurs scores des trois modèles\n",
        "best_test_scores = {\n",
        "    \"Model_Transfer_Learning\": test_accuracy_transfer,\n",
        "    \"Model_CNN\": test_accuracy_cnn,\n",
        "    \"Model\": test_accuracy\n",
        "}\n",
        "\n",
        "# Trouver le meilleur score de test parmi les trois modèles\n",
        "best_model = max(best_test_scores, key=best_test_scores.get)\n",
        "best_test_accuracy = best_test_scores[best_model]\n",
        "\n",
        "# Afficher le tableau des meilleurs scores\n",
        "print(\"Best Test Scores:\")\n",
        "print(\"{:<30} {:<15}\".format(\"Model\", \"Test Accuracy\"))\n",
        "print(\"-\" * 45)\n",
        "for model, accuracy in best_test_scores.items():\n",
        "    print(\"{:<30} {:<15.4f}\".format(model, accuracy))\n",
        "\n",
        "# Afficher le meilleur score de test\n",
        "print(\"\\nBest Model:\")\n",
        "print(\"{:<30} {:<15.4f}\".format(best_model, best_test_accuracy))"
      ],
      "metadata": {
        "colab": {
          "base_uri": "https://localhost:8080/"
        },
        "id": "20fHtKeGg6Yy",
        "outputId": "becbea4f-df0a-4801-bf9c-5de678da0f3c"
      },
      "execution_count": 30,
      "outputs": [
        {
          "output_type": "stream",
          "name": "stdout",
          "text": [
            "Best Test Scores:\n",
            "Model                          Test Accuracy  \n",
            "---------------------------------------------\n",
            "Model_Transfer_Learning        0.6217         \n",
            "Model_CNN                      0.7525         \n",
            "Model                          0.5642         \n",
            "\n",
            "Best Model:\n",
            "Model_CNN                      0.7525         \n"
          ]
        }
      ]
    },
    {
      "cell_type": "markdown",
      "source": [
        "### 10. Fine tune the two hyperparameters : dropout and kernel initialzers of the deep neural network obtained in question 5 using scikit-learn."
      ],
      "metadata": {
        "id": "BF1YzZEvM-L0"
      }
    },
    {
      "cell_type": "markdown",
      "source": [
        "### 11. Train a CNN denoising autoencoder on the data and illustrate your model using some images.To constract the noisy image, use a normal distribution with mean equal to 0.1 and varianceequal to 0.3. Try to reduce the inial size of images at least by factor 10 (compute this rateand write it in a comment)."
      ],
      "metadata": {
        "id": "KBtyV1DEnn8G"
      }
    }
  ]
}